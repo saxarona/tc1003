{
 "cells": [
  {
   "cell_type": "markdown",
   "metadata": {},
   "source": [
    "# Examen 1"
   ]
  },
  {
   "cell_type": "markdown",
   "metadata": {},
   "source": [
    "## Relaciones y funciones"
   ]
  },
  {
   "attachments": {},
   "cell_type": "markdown",
   "metadata": {},
   "source": [
    "Se usarán las letras $R, S, T, F, P, I, O, B$ para denotar respectivamente las características *reflexiva*, *simétrica*, *transitiva*, *función*, *parcial*, *inyectiva*, *sobre* y *biyección*, y un signo negativo en caso que sean lo contrario, e.g. *irreflexiva* es `-R` y `-P` es una *función total*.\n",
    "\n",
    "1. $\\{(1,1), (2,2), (3,3), (4,4)\\}$ es `STFPI`\n",
    "2. $\\{(2,2), (1,1), (3,3), (5,5), (4,4)\\}$ es `RSTF-PIOB`\n",
    "3. $\\{(1,2), (2,1), (3,4), (4,3), (3,5), (5,3)\\}$ es `-RS-T`\n",
    "4. $\\{(1,5), (2,3), (3,2), (4,4), (5,4)\\}$ es `F-P`\n",
    "5. $A \\times B$ es `RST`"
   ]
  },
  {
   "cell_type": "markdown",
   "metadata": {},
   "source": [
    "## Operaciones con conjuntos"
   ]
  },
  {
   "cell_type": "markdown",
   "metadata": {},
   "source": [
    "1. $\\{1, 2, 3\\} \\cup \\{z : z \\in \\mathbb{Z}, 4 \\leq z < 10\\} =\\quad \\{1, 2, 3, 4, 5, 6, 7, 8, 9\\}$\n",
    "2. $\\{1\\} \\times \\{2, 3, 4\\} = \\quad \\{(1,2), (1,3), (1,4)\\}$\n",
    "3. $|\\wp(\\{n : n \\in \\mathbb{N} \\cup \\{0\\}, n < 15\\})| = \\quad 2^{15} = 32768$\n",
    "4. $\\{10, 20, 30\\} \\cap \\{r : r \\in \\mathbb{N}\\} = \\quad \\{10, 20, 30 \\}$\n",
    "5. $\\{1, 2, 3\\} \\cap \\{4, 5, 6\\} = \\quad \\emptyset$"
   ]
  },
  {
   "cell_type": "markdown",
   "metadata": {},
   "source": [
    "## Lógica proposicional"
   ]
  },
  {
   "cell_type": "code",
   "execution_count": 13,
   "metadata": {},
   "outputs": [],
   "source": [
    "import ttg"
   ]
  },
  {
   "cell_type": "code",
   "execution_count": 18,
   "metadata": {},
   "outputs": [
    {
     "name": "stdout",
     "output_type": "stream",
     "text": [
      "+-----+-----+-----+------------------------------------------------+\n",
      "|  H  |  T  |  E  |  (H and (~T) and (~E)) or ((~H) and T) or (E)  |\n",
      "|-----+-----+-----+------------------------------------------------|\n",
      "|  1  |  1  |  1  |                       1                        |\n",
      "|  1  |  1  |  0  |                       0                        |\n",
      "|  1  |  0  |  1  |                       1                        |\n",
      "|  1  |  0  |  0  |                       1                        |\n",
      "|  0  |  1  |  1  |                       1                        |\n",
      "|  0  |  1  |  0  |                       1                        |\n",
      "|  0  |  0  |  1  |                       1                        |\n",
      "|  0  |  0  |  0  |                       0                        |\n",
      "+-----+-----+-----+------------------------------------------------+\n"
     ]
    }
   ],
   "source": [
    "# truth values are given\n",
    "# let's use H, T, E\n",
    "# 100 means close (though ambiguity may imply that x00 is true)\n",
    "# 01x means close\n",
    "# xx1 means close\n",
    "\n",
    "f1 = '(H and (~T) and (~E))'\n",
    "f2 = '((~H) and T)'\n",
    "f3 = '(E)'\n",
    "full = f1 + ' or ' + f2 + ' or ' + f3\n",
    "\n",
    "table = ttg.Truths(['H', 'T', 'E'], [full])\n",
    "print(table)"
   ]
  },
  {
   "cell_type": "markdown",
   "metadata": {},
   "source": [
    "## Funciones y relaciones II"
   ]
  },
  {
   "cell_type": "markdown",
   "metadata": {},
   "source": [
    "Sea $M = \\{do, re, mi, fa, sol, la ,si\\}$.\n",
    "\n",
    "Entonces, el círculo de quintas $Q$ es\n",
    "$$Q = \\{(fa,do), (do, sol), (sol, re), (re, la), (la, mi), (mi, si), (si, fa)\\}$$\n",
    "\n",
    "- Su cardinalidad $|Q| = 7 $.\n",
    "- $Q$ es irreflexiva, intransitiva y asimétrica\n",
    "- $Q$ es una función total\n",
    "- $Q$ es una biyección (y por tanto es inyectiva y sobre)\n",
    "- La cerradura transitiva $Q[M]$ es igual al producto cartesiano $M \\times M$.\n",
    "\n",
    "**Prueba**. La regla de transitividad menciona que si $(a,b) \\in R \\wedge (b,c) \\in R$ entonces $(a,c) \\in R$, y debe cumplirse para todo par en $R$.\n",
    "Al ser $Q$ una biyección, significa que cada tónica tiene una única quinta, y que cada quinta tiene una tónica única.\n",
    "\n",
    "Para comenzar, agregue $(a, c)$ a $Q$.\n",
    "Como $c \\in M$, y $Q$ agota $M$, entonces significa que existe una quinta única para la nota $c$ la cual es parte también de $M$ (es decir que ya existe un par $(c,x) \\in Q$). Al existir $(c,x) \\in Q$, debe agregarse $(a,x)$ a $Q$.\n",
    "\n",
    "Agregue ahora $(a,x)$ a $Q$.\n",
    "De igual manera que con el par pasado, existe una nota $x$ cuya quinta es una nota dentro de $M$ y por tanto ya existe un par que relaciona a $x$ y su quinta $q(x)$. Al existir $(x,q(x)) \\in Q$ hay que agregar $(q(x), q(q(x))$, donde $q(q(x)) \\in M$  y por tanto, el proceso vuelve a repetirse.\n",
    "Éste comportamiento recurrente se realiza para cada nota única $a \\in M$, y para cada una de sus únicas quintas $b \\in M$, por lo que la cerradura transitiva $Q[M]$ es igual a $M \\times M \\quad\\blacksquare$.\n",
    "\n",
    "Se incluye a continuación un script en Haskell para el cálculo de la cerradura transitiva de $M$ bajo $Q$:\n",
    "\n",
    "---\n",
    "\n",
    "```haskell\n",
    "module Closure where\n",
    "\n",
    "    trans :: [(t, t)] -> [(t, t)]\n",
    "    trans x = [(xi, zi) | (xi, yi) <- x, (yi, zi) <- x]\n",
    "```\n",
    "\n",
    "---\n",
    "\n",
    "que al ejecutarlo en `ghci` nos arroja:\n",
    "\n",
    "- - -\n",
    "\n",
    "```ghci\n",
    "*Closure> length (trans [(\"fa\", \"do\"), (\"do\", \"sol\"), (\"sol\", \"re\"), (\"re\", \"la\"), (\"la\", \"mi\"), (\"mi\", \"si\"), (\"si\", \"fa\")])\n",
    "49\n",
    "*Closure> trans [(\"fa\", \"do\"), (\"do\", \"sol\"), (\"sol\", \"re\"), (\"re\", \"la\"), (\"la\", \"mi\"), (\"mi\", \"si\"), (\"si\", \"fa\")]         \n",
    "[(\"fa\",\"do\"),(\"fa\",\"sol\"),(\"fa\",\"re\"),(\"fa\",\"la\"),(\"fa\",\"mi\"),(\"fa\",\"si\"),(\"fa\",\"fa\"),(\"do\",\"do\"),(\"do\",\"sol\"),(\"do\",\"re\"),(\"do\",\"la\"),(\"do\",\"mi\"),(\"do\",\"si\"),(\"do\",\"fa\"),(\"sol\",\"do\"),(\"sol\",\"sol\"),(\"sol\",\"re\"),(\"sol\",\"la\"),(\"sol\",\"mi\"),(\"sol\",\"si\"),(\"sol\",\"fa\"),(\"re\",\"do\"),(\"re\",\"sol\"),(\"re\",\"re\"),(\"re\",\"la\"),(\"re\",\"mi\"),(\"re\",\"si\"),(\"re\",\"fa\"),(\"la\",\"do\"),(\"la\",\"sol\"),(\"la\",\"re\"),(\"la\",\"la\"),(\"la\",\"mi\"),(\"la\",\"si\"),(\"la\",\"fa\"),(\"mi\",\"do\"),(\"mi\",\"sol\"),(\"mi\",\"re\"),(\"mi\",\"la\"),(\"mi\",\"mi\"),(\"mi\",\"si\"),(\"mi\",\"fa\"),(\"si\",\"do\"),(\"si\",\"sol\"),(\"si\",\"re\"),(\"si\",\"la\"),(\"si\",\"mi\"),(\"si\",\"si\"),(\"si\",\"fa\")]\n",
    "```\n",
    "- - - "
   ]
  }
 ],
 "metadata": {
  "kernelspec": {
   "display_name": "Python 3",
   "language": "python",
   "name": "python3"
  },
  "language_info": {
   "codemirror_mode": {
    "name": "ipython",
    "version": 3
   },
   "file_extension": ".py",
   "mimetype": "text/x-python",
   "name": "python",
   "nbconvert_exporter": "python",
   "pygments_lexer": "ipython3",
   "version": "3.7.4"
  }
 },
 "nbformat": 4,
 "nbformat_minor": 2
}
