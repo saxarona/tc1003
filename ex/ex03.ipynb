{
 "cells": [
  {
   "cell_type": "markdown",
   "metadata": {},
   "source": [
    "# Examen Final"
   ]
  },
  {
   "cell_type": "markdown",
   "metadata": {},
   "source": [
    "# Propiedades del grafo"
   ]
  },
  {
   "cell_type": "code",
   "execution_count": 1,
   "metadata": {},
   "outputs": [],
   "source": [
    "V = ['Wharf',\n",
    "     'Strand', 'Alleyways', 'Laboratory', 'Desert', 'Cursed Crypt',\n",
    "     'Bazaar', 'Leyline', 'Vaal Pyramid', 'Museum', 'Temple', 'Primordial Pool', 'Waterways',\n",
    "     'Colonnade', 'Phantasmagoria', 'Academy', 'Conservatory',\n",
    "     'Castle Ruins', 'Chateau']\n",
    "\n",
    "E = [('Wharf', 'Alleyways'), ('Wharf', 'Laboratory'), ('Wharf', 'Strand'),\n",
    "     ('Strand', 'Primordial Pool'), ('Strand', 'Temple'),\n",
    "     ('Alleyways', 'Desert'),\n",
    "     ('Laboratory', 'Museum'), ('Laboratory', 'Vaal Pyramid'), ('Laboratory', 'Cursed Crypt'),\n",
    "     ('Desert', 'Cursed Crypt'), ('Desert', 'Bazaar'),\n",
    "     ('Cursed Crypt', 'Leyline'),\n",
    "     ('Bazaar', 'Leyline'),\n",
    "     ('Leyline', 'Conservatory'),\n",
    "     ('Vaal Pyramid', 'Conservatory'), ('Vaal Pyramid', 'Academy'), ('Vaal Pyramid', 'Museum'),\n",
    "     ('Museum', 'Academy'), ('Museum', 'Temple'),\n",
    "     ('Temple', 'Academy'), ('Temple', 'Phantasmagoria'),\n",
    "     ('Primordial Pool', 'Phantasmagoria'), ('Primordial Pool', 'Waterways'),\n",
    "     ('Waterways', 'Colonnade'),\n",
    "     ('Colonnade', 'Chateau'),\n",
    "     ('Phantasmagoria', 'Colonnade'), ('Phantasmagoria', 'Academy'),\n",
    "     ('Academy', 'Castle Ruins'),\n",
    "     ('Conservatory', 'Castle Ruins'),\n",
    "     ('Castle Ruins', 'Chateau')]"
   ]
  },
  {
   "cell_type": "markdown",
   "metadata": {},
   "source": [
    "![PoE Atlas](atlas-poe.png)"
   ]
  },
  {
   "cell_type": "markdown",
   "metadata": {},
   "source": [
    "### Información básica"
   ]
  },
  {
   "cell_type": "code",
   "execution_count": 2,
   "metadata": {},
   "outputs": [
    {
     "data": {
      "text/plain": [
       "19"
      ]
     },
     "execution_count": 2,
     "metadata": {},
     "output_type": "execute_result"
    }
   ],
   "source": [
    "# |V|\n",
    "len(V)"
   ]
  },
  {
   "cell_type": "code",
   "execution_count": 3,
   "metadata": {},
   "outputs": [
    {
     "data": {
      "text/plain": [
       "30"
      ]
     },
     "execution_count": 3,
     "metadata": {},
     "output_type": "execute_result"
    }
   ],
   "source": [
    "# |E|\n",
    "len(E)"
   ]
  },
  {
   "cell_type": "code",
   "execution_count": 4,
   "metadata": {},
   "outputs": [
    {
     "data": {
      "text/plain": [
       "[('Wharf', 3),\n",
       " ('Strand', 3),\n",
       " ('Alleyways', 2),\n",
       " ('Laboratory', 4),\n",
       " ('Desert', 3),\n",
       " ('Cursed Crypt', 3),\n",
       " ('Bazaar', 2),\n",
       " ('Leyline', 3),\n",
       " ('Vaal Pyramid', 4),\n",
       " ('Museum', 4),\n",
       " ('Temple', 4),\n",
       " ('Primordial Pool', 3),\n",
       " ('Waterways', 2),\n",
       " ('Colonnade', 3),\n",
       " ('Phantasmagoria', 4),\n",
       " ('Academy', 5),\n",
       " ('Conservatory', 3),\n",
       " ('Castle Ruins', 3),\n",
       " ('Chateau', 2)]"
      ]
     },
     "execution_count": 4,
     "metadata": {},
     "output_type": "execute_result"
    }
   ],
   "source": [
    "# Obtain the degree of each vertice\n",
    "\n",
    "degs = []\n",
    "visited = []\n",
    "for i in V:\n",
    "    if i not in visited:\n",
    "        thedeg = len(list(filter(lambda x: x[0] == i or x[1] == i, E)))\n",
    "        degs.append((i, thedeg))\n",
    "        visited.append(i)\n",
    "degs"
   ]
  },
  {
   "cell_type": "code",
   "execution_count": 5,
   "metadata": {},
   "outputs": [
    {
     "data": {
      "text/plain": [
       "5"
      ]
     },
     "execution_count": 5,
     "metadata": {},
     "output_type": "execute_result"
    }
   ],
   "source": [
    "# max deg(v)\n",
    "maxdeg = max([i for __, i in degs])\n",
    "maxdeg"
   ]
  },
  {
   "cell_type": "code",
   "execution_count": 6,
   "metadata": {},
   "outputs": [
    {
     "data": {
      "text/plain": [
       "2"
      ]
     },
     "execution_count": 6,
     "metadata": {},
     "output_type": "execute_result"
    }
   ],
   "source": [
    "# min deg(v)\n",
    "mindeg = min([i for __, i in degs])\n",
    "mindeg"
   ]
  },
  {
   "cell_type": "code",
   "execution_count": 7,
   "metadata": {},
   "outputs": [
    {
     "data": {
      "text/plain": [
       "{'Academy'}"
      ]
     },
     "execution_count": 7,
     "metadata": {},
     "output_type": "execute_result"
    }
   ],
   "source": [
    "# argmax deg(v)\n",
    "{x for x, __ in list(filter(lambda x: x[1] == maxdeg, degs))}"
   ]
  },
  {
   "cell_type": "code",
   "execution_count": 8,
   "metadata": {},
   "outputs": [
    {
     "data": {
      "text/plain": [
       "{'Alleyways', 'Bazaar', 'Chateau', 'Waterways'}"
      ]
     },
     "execution_count": 8,
     "metadata": {},
     "output_type": "execute_result"
    }
   ],
   "source": [
    "# argmin deg(v)\n",
    "{x for x, __ in list(filter(lambda x: x[1] == mindeg, degs))}"
   ]
  },
  {
   "cell_type": "markdown",
   "metadata": {},
   "source": [
    "### Tiers"
   ]
  },
  {
   "cell_type": "code",
   "execution_count": 9,
   "metadata": {},
   "outputs": [
    {
     "data": {
      "text/plain": [
       "[('Wharf', 1),\n",
       " ('Strand', 2),\n",
       " ('Alleyways', 2),\n",
       " ('Laboratory', 2),\n",
       " ('Cursed Crypt', 2),\n",
       " ('Desert', 2),\n",
       " ('Waterways', 3),\n",
       " ('Primordial Pool', 3),\n",
       " ('Temple', 3),\n",
       " ('Museum', 3),\n",
       " ('Vaal Pyramid', 3),\n",
       " ('Leyline', 3),\n",
       " ('Bazaar', 3),\n",
       " ('Colonnade', 4),\n",
       " ('Phantasmagoria', 4),\n",
       " ('Academy', 4),\n",
       " ('Conservatory', 4),\n",
       " ('Chateau', 5),\n",
       " ('Castle Ruins', 5)]"
      ]
     },
     "execution_count": 9,
     "metadata": {},
     "output_type": "execute_result"
    }
   ],
   "source": [
    "T = [('Wharf', 1)]\n",
    "T2 = [('Strand', 2), ('Alleyways', 2), ('Laboratory', 2), ('Cursed Crypt', 2), ('Desert', 2)] \n",
    "T3 = [('Waterways', 3), ('Primordial Pool', 3), ('Temple', 3), ('Museum', 3), ('Vaal Pyramid', 3), ('Leyline', 3), ('Bazaar', 3)]\n",
    "T4 = [('Colonnade', 4), ('Phantasmagoria', 4), ('Academy', 4), ('Conservatory', 4)]\n",
    "T5 = [('Chateau', 5), ('Castle Ruins', 5)]\n",
    "\n",
    "T.extend(T2)\n",
    "T.extend(T3)\n",
    "T.extend(T4)\n",
    "T.extend(T5)\n",
    "T\n",
    "    "
   ]
  },
  {
   "cell_type": "markdown",
   "metadata": {},
   "source": [
    "## Relaciones y lógica"
   ]
  },
  {
   "cell_type": "markdown",
   "metadata": {},
   "source": [
    "El conjunto de los mapas obtenibles $D_i$ para el mapa $i$ es un subconjunto de los completados $C$, por lo que es, a lo mucho, del mismo tamaño.\n",
    "\n",
    "En palabras, con que cualquiera de las siguientes dos reglas se cumplan, entonces el mapa $d$ está en los obtenibles $D_i$:\n",
    "\n",
    "1. Que el mapa $d$ esté completado y sea a lo mucho 2 tiers más alto que el mapa $i$\n",
    "2. Que el mapa sea vecino de $i$"
   ]
  },
  {
   "cell_type": "code",
   "execution_count": 10,
   "metadata": {},
   "outputs": [],
   "source": [
    "def neighbourhood(m: str) -> set:\n",
    "    \"\"\"Gets the neighbourhood of a map m\"\"\"\n",
    "    edges = list(filter(lambda x: x[0] == m or x[1] == m, E))\n",
    "    N1 = [n for (n, __) in edges]\n",
    "    N1.extend([n for (__, n) in edges])\n",
    "    N = set(filter(lambda x: x is not m, N1))\n",
    "    N.add(m)\n",
    "    return set(N)"
   ]
  },
  {
   "cell_type": "code",
   "execution_count": 11,
   "metadata": {},
   "outputs": [
    {
     "data": {
      "text/plain": [
       "{'Academy', 'Museum', 'Phantasmagoria', 'Strand', 'Temple'}"
      ]
     },
     "execution_count": 11,
     "metadata": {},
     "output_type": "execute_result"
    }
   ],
   "source": [
    "# Testing it works\n",
    "neighbourhood('Temple')"
   ]
  },
  {
   "cell_type": "code",
   "execution_count": 12,
   "metadata": {},
   "outputs": [],
   "source": [
    "def get_tier(m: str) -> int:\n",
    "    \"\"\"Gets the tier of a map m\"\"\"\n",
    "    return [t for (i, t) in T if i == m].pop()"
   ]
  },
  {
   "cell_type": "code",
   "execution_count": 13,
   "metadata": {},
   "outputs": [
    {
     "data": {
      "text/plain": [
       "3"
      ]
     },
     "execution_count": 13,
     "metadata": {},
     "output_type": "execute_result"
    }
   ],
   "source": [
    "# Testing it works\n",
    "get_tier('Temple')"
   ]
  },
  {
   "cell_type": "code",
   "execution_count": 14,
   "metadata": {},
   "outputs": [],
   "source": [
    "def get_obtainable(m: str) -> set:\n",
    "    \"\"\"Gets the set of obtainable maps if you're in map m\n",
    "    and considering the set of completed maps C\"\"\"\n",
    "    D = {c for c in C if get_tier(c) <= get_tier(m) + 2}\n",
    "    D = D.union(neighbourhood(m))\n",
    "    return D"
   ]
  },
  {
   "cell_type": "markdown",
   "metadata": {},
   "source": [
    "### Completando el Atlas"
   ]
  },
  {
   "cell_type": "markdown",
   "metadata": {},
   "source": [
    "a) Define por extensión el conjunto $D_{Temple}$ si has completado todos los mapas Tier 1, 2 y 3"
   ]
  },
  {
   "cell_type": "code",
   "execution_count": 15,
   "metadata": {},
   "outputs": [],
   "source": [
    "# Completed maps\n",
    "C = {t[0] for t in T if t[1] <= 3}"
   ]
  },
  {
   "cell_type": "code",
   "execution_count": 16,
   "metadata": {},
   "outputs": [
    {
     "data": {
      "text/plain": [
       "{'Academy',\n",
       " 'Alleyways',\n",
       " 'Bazaar',\n",
       " 'Cursed Crypt',\n",
       " 'Desert',\n",
       " 'Laboratory',\n",
       " 'Leyline',\n",
       " 'Museum',\n",
       " 'Phantasmagoria',\n",
       " 'Primordial Pool',\n",
       " 'Strand',\n",
       " 'Temple',\n",
       " 'Vaal Pyramid',\n",
       " 'Waterways',\n",
       " 'Wharf'}"
      ]
     },
     "execution_count": 16,
     "metadata": {},
     "output_type": "execute_result"
    }
   ],
   "source": [
    "get_obtainable('Temple')"
   ]
  },
  {
   "cell_type": "markdown",
   "metadata": {},
   "source": [
    "b) Considerando que no lo has completado, demuestra o refuta que $Phantasmagoria$ es un mapa obtenible estando en $Museum$\n",
    "\n",
    "Esto lo podemos revisar si removemos $Phantasmagoria$ de los completados (que no está, para empezar lol) y después revisamos si está en los obtenibles de $Museum$"
   ]
  },
  {
   "cell_type": "code",
   "execution_count": 17,
   "metadata": {},
   "outputs": [
    {
     "data": {
      "text/plain": [
       "False"
      ]
     },
     "execution_count": 17,
     "metadata": {},
     "output_type": "execute_result"
    }
   ],
   "source": [
    "if 'Phantasmagoria' in C:\n",
    "    C = C.remove('Phantasmagoria')\n",
    "\n",
    "'Phantasmagoria' in get_obtainable('Museum')"
   ]
  },
  {
   "cell_type": "markdown",
   "metadata": {},
   "source": [
    "c) Sabiendo que has completado todo el Atlas, demuestra o refuta que $D_{Conservatory} = D_{PrimordialPool}$"
   ]
  },
  {
   "cell_type": "markdown",
   "metadata": {},
   "source": [
    "Primero modificamos los completados"
   ]
  },
  {
   "cell_type": "code",
   "execution_count": 18,
   "metadata": {},
   "outputs": [
    {
     "data": {
      "text/plain": [
       "{'Academy',\n",
       " 'Alleyways',\n",
       " 'Bazaar',\n",
       " 'Castle Ruins',\n",
       " 'Chateau',\n",
       " 'Colonnade',\n",
       " 'Conservatory',\n",
       " 'Cursed Crypt',\n",
       " 'Desert',\n",
       " 'Laboratory',\n",
       " 'Leyline',\n",
       " 'Museum',\n",
       " 'Phantasmagoria',\n",
       " 'Primordial Pool',\n",
       " 'Strand',\n",
       " 'Temple',\n",
       " 'Vaal Pyramid',\n",
       " 'Waterways',\n",
       " 'Wharf'}"
      ]
     },
     "execution_count": 18,
     "metadata": {},
     "output_type": "execute_result"
    }
   ],
   "source": [
    "C = {t[0] for t in T if t[1] <= 5}\n",
    "C"
   ]
  },
  {
   "cell_type": "code",
   "execution_count": 19,
   "metadata": {},
   "outputs": [
    {
     "data": {
      "text/plain": [
       "True"
      ]
     },
     "execution_count": 19,
     "metadata": {},
     "output_type": "execute_result"
    }
   ],
   "source": [
    "get_obtainable('Conservatory') == get_obtainable('Primordial Pool')"
   ]
  },
  {
   "cell_type": "markdown",
   "metadata": {},
   "source": [
    "Ambos conjuntos son iguales. La demostración es trivial:\n",
    "\n",
    "Dado a que ambos casos cumplen que todos los mapas se han completado, la primera de las reglas tiene una condición (del lado izquierdo del AND) como `True`.\n",
    "Significa entonces que la única condición que determina si están o no en el conjunto de los obtenibles es el lado derecho del AND:\n",
    "\n",
    "Si el tier de los mapas son menores que, a lo mucho, dos niveles más que el tier del mapa en el que estamos.\n",
    "Si revisamos los tiers de los mapas en cuestión:"
   ]
  },
  {
   "cell_type": "code",
   "execution_count": 20,
   "metadata": {},
   "outputs": [
    {
     "data": {
      "text/plain": [
       "4"
      ]
     },
     "execution_count": 20,
     "metadata": {},
     "output_type": "execute_result"
    }
   ],
   "source": [
    "get_tier('Conservatory')"
   ]
  },
  {
   "cell_type": "code",
   "execution_count": 21,
   "metadata": {},
   "outputs": [
    {
     "data": {
      "text/plain": [
       "3"
      ]
     },
     "execution_count": 21,
     "metadata": {},
     "output_type": "execute_result"
    }
   ],
   "source": [
    "get_tier('Primordial Pool')"
   ]
  },
  {
   "cell_type": "markdown",
   "metadata": {},
   "source": [
    "Si sumamos dos tiers a cada uno, claramente tenemos 6 y 5 respectivamente, que son iguales o mayores al Tier máximo de nuestro grafo.\n",
    "Por lo que como ya tenemos todos completados, significa que todos los mapas menores o iguales a 6 (para un caso, o sea todos) o 5 (para el otro caso, o sea todos) son obtenibles.\n",
    "\n",
    "Por tanto ambos son iguales. $\\blacksquare$"
   ]
  },
  {
   "cell_type": "markdown",
   "metadata": {},
   "source": [
    "d) Si usaras un color para marcar los mapas explorados y otro color para marcar los mapas inexplorados, ¿Es posible colorear el grafo sin que dos mapas adyacentes tengan el mismo color? ¿Por qué?"
   ]
  },
  {
   "cell_type": "markdown",
   "metadata": {},
   "source": [
    "Esta pregunta puede parecer confusa porque depende de cuáles sean los explorados y cuáles lo no explorados.\n",
    "Sin embargo, queremos saber si existe alguna manera de que algunos estén explorados y otros no (todas las combinaciones posibles) y ver si alguna de ellas logra pintar de dos colores alternados todo el grafo.\n",
    "\n",
    "En otras palabras, nos están preguntando si el grafo es bipartito, lo cual es falso:\n",
    "\n",
    "El grafo no es bipartito ya que existe al menos un mapa cuyos vecinos son mútuamente vecinos.\n",
    "Si $Phantasmagoria$ está pintado del color 1, entonces todos sus vecinos deben estar pintados del color 2.\n",
    "Sin embargo, como dos de esos vecinos ($Academy$ y $Temple$) son vecinos entre sí, deberían entonces tener colores distintos, lo cual no es consistente con el color que ya tiene $Phantasmagoria$.\n",
    "Por tanto y luego entonces, el grafo completo no puede ser bipartito $\\blacksquare$"
   ]
  },
  {
   "cell_type": "markdown",
   "metadata": {},
   "source": [
    "### Obteniendo mapas repetidos"
   ]
  },
  {
   "cell_type": "markdown",
   "metadata": {},
   "source": [
    "a) Considerando que ya completaste todo el grafo, ¿Cuál es el mapa que ofrece la mayor probabilidad de obtener un mapa de Tier 2?\n",
    "\n",
    "Esto podemos encontrarlo con la división de $m / n$ donde $m$ es el conjunto de todos los mapas Tier 2 que estén en los obtenibles de CADA mapa, y $n$ es el tamaño de los obtenibles.\n",
    "\n",
    "Como ya completamos TODOS los mapas, entonces todos los tier 2 son obtenibles en lugares donde se pueden obtener mapas de tier 2, por lo que el subconjunto de mapas tier 2 en cada conjunto de obtenibles siempre será el mismo (todos los tier 2). Esto es nuestra $m$.\n",
    "\n",
    "Ahora, para conseguir la $n$, necesitamos el $D_i$ de cada mapa $i$ en los completados donde podamos obtener mapas tier 2 (o sea, todos). El mínimo de esos, es el que tiene la mayor probabilidad de darnos un mapa Tier 2:"
   ]
  },
  {
   "cell_type": "markdown",
   "metadata": {},
   "source": [
    "$$\\text{arg min} \\{|D_i| \\colon i \\in C\\}$$"
   ]
  },
  {
   "cell_type": "code",
   "execution_count": 22,
   "metadata": {},
   "outputs": [
    {
     "data": {
      "text/plain": [
       "'Wharf'"
      ]
     },
     "execution_count": 22,
     "metadata": {},
     "output_type": "execute_result"
    }
   ],
   "source": [
    "C = list(C)\n",
    "sizes = [x for __, x in [(i, len(get_obtainable(i))) for i in C]]\n",
    "C[sizes.index(min(sizes))]"
   ]
  },
  {
   "cell_type": "markdown",
   "metadata": {},
   "source": [
    "Lo cual es más o menos obvio: el menor número de mapas obtenibles lo tiene el mapa de menor Tier—en un mapa Tier 1 sólo podemos obtener mapas de Tiers 1, 2 y 3."
   ]
  },
  {
   "cell_type": "markdown",
   "metadata": {},
   "source": [
    "### Borrando el progreso del Atlas\n",
    "Conociendo que tengo el Atlas completo, qué mapas debería borrar para obtener mayor probabilidad de conseguir un $Alleyways$ si estoy en un $Alleyways$?"
   ]
  },
  {
   "cell_type": "markdown",
   "metadata": {},
   "source": [
    "Borrar todos es una opción válida, pero ineficiente.\n",
    "Hay algunos mapas que **nunca** van a caer en $Alleyways$—los de tiers mayores al Tier $2+2 = 4$, que son los mapas de Tier 5.\n",
    "\n",
    "De igual manera, hay otros mapas que **siempre** van a caer en $Alleyways$—los del vecindario de $Alleyways$.\n",
    "\n",
    "Significa entonces que tenemos que borrar los obtenibles en $Alleyways$ que NO estén en el vecindario de Alleyways:"
   ]
  },
  {
   "cell_type": "code",
   "execution_count": 23,
   "metadata": {},
   "outputs": [
    {
     "data": {
      "text/plain": [
       "{'Academy',\n",
       " 'Alleyways',\n",
       " 'Bazaar',\n",
       " 'Colonnade',\n",
       " 'Conservatory',\n",
       " 'Cursed Crypt',\n",
       " 'Desert',\n",
       " 'Laboratory',\n",
       " 'Leyline',\n",
       " 'Museum',\n",
       " 'Phantasmagoria',\n",
       " 'Primordial Pool',\n",
       " 'Strand',\n",
       " 'Temple',\n",
       " 'Vaal Pyramid',\n",
       " 'Waterways',\n",
       " 'Wharf'}"
      ]
     },
     "execution_count": 23,
     "metadata": {},
     "output_type": "execute_result"
    }
   ],
   "source": [
    "alley_di = get_obtainable('Alleyways')\n",
    "alley_di"
   ]
  },
  {
   "cell_type": "code",
   "execution_count": 24,
   "metadata": {},
   "outputs": [
    {
     "data": {
      "text/plain": [
       "{'Alleyways', 'Desert', 'Wharf'}"
      ]
     },
     "execution_count": 24,
     "metadata": {},
     "output_type": "execute_result"
    }
   ],
   "source": [
    "alley_n = neighbourhood('Alleyways')\n",
    "alley_n"
   ]
  },
  {
   "cell_type": "markdown",
   "metadata": {},
   "source": [
    "Aquí hay que notar que $Alleyways$ es parte del vecindario de $Alleyways$ (mi casa es parte del vecindario de mi casa).\n",
    "\n",
    "Finalmente, para saber qué mapas tengo que borrar, hago una simple diferencia de conjuntos:"
   ]
  },
  {
   "cell_type": "code",
   "execution_count": 25,
   "metadata": {},
   "outputs": [
    {
     "data": {
      "text/plain": [
       "{'Academy',\n",
       " 'Bazaar',\n",
       " 'Colonnade',\n",
       " 'Conservatory',\n",
       " 'Cursed Crypt',\n",
       " 'Laboratory',\n",
       " 'Leyline',\n",
       " 'Museum',\n",
       " 'Phantasmagoria',\n",
       " 'Primordial Pool',\n",
       " 'Strand',\n",
       " 'Temple',\n",
       " 'Vaal Pyramid',\n",
       " 'Waterways'}"
      ]
     },
     "execution_count": 25,
     "metadata": {},
     "output_type": "execute_result"
    }
   ],
   "source": [
    "alley_di - alley_n"
   ]
  },
  {
   "cell_type": "markdown",
   "metadata": {},
   "source": [
    "## Caminatas, Caminos y Ciclos"
   ]
  },
  {
   "cell_type": "markdown",
   "metadata": {},
   "source": [
    "Simplifcando las reglas, tenemos:\n",
    "\n",
    "- Agregar _Conqueror influence_ se logra cuando hacemos un camino que recorre 2 ejes sin repetir (es decir, un camino euleriano de tamaño 2).\n",
    "- Quitar _Conqueror influence_ se logra cuando hacemos un camino que recorre 4 ejes sin repetir (es decir, un camino euleriano de tamaño 4)."
   ]
  },
  {
   "cell_type": "markdown",
   "metadata": {},
   "source": [
    "a) Considerando que borraste T3, T4 y T5, cualquier camino euleriano de tamaño 2 en el subgrafo de T1 y T2 es válido"
   ]
  },
  {
   "cell_type": "markdown",
   "metadata": {},
   "source": [
    "b) Considerando que borraste T1, T2 y T5, cualquier camino euleriano de tamaño 4 en el subgrafo de T3 y T4 es válido"
   ]
  }
 ],
 "metadata": {
  "kernelspec": {
   "display_name": "Python 3",
   "language": "python",
   "name": "python3"
  },
  "language_info": {
   "codemirror_mode": {
    "name": "ipython",
    "version": 3
   },
   "file_extension": ".py",
   "mimetype": "text/x-python",
   "name": "python",
   "nbconvert_exporter": "python",
   "pygments_lexer": "ipython3",
   "version": "3.7.4"
  }
 },
 "nbformat": 4,
 "nbformat_minor": 2
}
