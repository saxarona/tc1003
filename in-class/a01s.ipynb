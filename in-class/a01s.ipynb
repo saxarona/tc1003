{
 "cells": [
  {
   "cell_type": "markdown",
   "metadata": {},
   "source": [
    "# Actividad 1"
   ]
  },
  {
   "cell_type": "markdown",
   "metadata": {},
   "source": [
    "## Declaraciones\n",
    "Selecciona aquellos enunciados que sean declaraciones.\n",
    "\n",
    "_Las respuestas están marcadas en negritas. Cada inciso vale 2 puntos_.\n",
    "\n",
    "1. Hola Pueblo\n",
    "2. **Nuestra verdad es la luz y nunca nos extinguiremos porque somos la luz**\n",
    "3. ¿Es el \"ser mejor\", en el hecho de \"ser\"?\n",
    "4. ¿Es el ser \"ya ser\" en el hecho de \"estar\"?\n",
    "5. **Lo mejor debe ser yacer en el hecho de Esther**\n",
    "6. **El 0% de mucho es mucho**\n",
    "7. ¿Me quiere? ¿No me quiere? No lo sé"
   ]
  },
  {
   "cell_type": "markdown",
   "metadata": {},
   "source": [
    "Selecciona aquellos enunciados que sean estatutos (_statements_)\n",
    "\n",
    "_Las respuestas están marcadas en negritas. Cada inciso vale 2 puntos_\n",
    "\n",
    "- Para abril o para mayo\n",
    "- **Cinco ballenas mueren al día**\n",
    "- Si tan sólo alguien me quisiera...\n",
    "- Vete y no vuelvas\n",
    "- **Si tienen sirloin, me traes dos. Si no, cinco de trompo**\n",
    "- **Monterrey es la mejor ciudad de México**\n",
    "- **México es el mejor país de Latinoamérica**\n",
    "- **20 veces 1 es más que 10 veces 2**"
   ]
  },
  {
   "cell_type": "markdown",
   "metadata": {},
   "source": [
    "## Atomicidad y Simbología\n",
    "\n",
    "- De los enunciados en el inciso anterior, ¿cuáles son atómicos? (_15 puntos cada pregunta_)\n",
    "\n",
    "_El de las ballenas, el de Monterrey y el de Latinoamérica._"
   ]
  },
  {
   "cell_type": "markdown",
   "metadata": {},
   "source": [
    "- Toma el enunciado más largo del inciso anterior y escríbelo en forma simbólica.\n",
    "\n",
    "_Si $P$ es `Tienen sirloin` y $Q$ es `Me traes dos de sirloin` y $R$ es `me traes cinco de trompo`, entonces el enunciado puede escribirse como_: ($P \\implies Q) \\vee (\\neg P \\implies R$)"
   ]
  }
 ],
 "metadata": {
  "kernelspec": {
   "display_name": "Python 3",
   "language": "python",
   "name": "python3"
  },
  "language_info": {
   "codemirror_mode": {
    "name": "ipython",
    "version": 3
   },
   "file_extension": ".py",
   "mimetype": "text/x-python",
   "name": "python",
   "nbconvert_exporter": "python",
   "pygments_lexer": "ipython3",
   "version": "3.7.3"
  }
 },
 "nbformat": 4,
 "nbformat_minor": 2
}
