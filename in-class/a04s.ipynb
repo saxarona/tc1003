{
 "cells": [
  {
   "cell_type": "markdown",
   "metadata": {},
   "source": [
    "# Actividad 4 - Lógica de Primer Orden"
   ]
  },
  {
   "cell_type": "markdown",
   "metadata": {},
   "source": [
    "## Enunciados\n",
    "Convierte a forma simbólica los siguientes enunciados"
   ]
  },
  {
   "cell_type": "markdown",
   "metadata": {},
   "source": [
    "1. Cualquiera que le caiga bien a Alberto, le cae bien a Betty\n",
    "2. A alberto no le cae bien nadie que le caiga bien a Betty\n",
    "3. Todo entero tiene exactamente un sucesor\n",
    "4. La mamá de mi papá es más grande que el papá de mi mamá"
   ]
  },
  {
   "cell_type": "markdown",
   "metadata": {},
   "source": [
    "### Oraciones 1 y 2\n",
    "\n",
    "Sean $A(x)$ es $x$ _le cae bien a Alberto_ y $B(x)$ es $x$ _le cae bien a Betty_.\n",
    "\n",
    "- La oración 1 es &emsp; $\\forall x(A(x) \\implies B(x))$\n",
    "- La oración 2 es &emsp; $\\forall x(B(x) \\implies \\neg A(x))$\n",
    "\n",
    "Alternativamente podemos usar $P(x,c)$ como para decir $x$ _le cae bien a la persona_ $a$, donde $a$ pueden ser Alberto o Betty.\n",
    "\n",
    "### Oración 3\n",
    "\n",
    "Asumiendo que $x, y \\in \\mathbb{Z}$ y $S(y, x)$ es $y$ es sucesor de $x$, entonces\n",
    "\n",
    "- La oración 3 es &emsp; $\\forall x \\exists! y(S(y, x))$ o $\\forall x \\exists! y(y=x+1)$\n",
    "\n",
    "### Oración 4\n",
    "\n",
    "Sean $P(x, y)$ usado para expresar que $x$ _es el papá de_ $y$, $M(x, y)$ que $x$ _es la mamá de_ $y$ y que $E(x)$ es la _edad de_ $x$, e $i$ soy yo, puedo hacer la siguiente base de conocimiento:\n",
    "\n",
    "1. $x$ es mi papá, o sea $P(x, i)$\n",
    "2. $y$ es la mamá de mi papá, o sea $M(y,x)$\n",
    "3. $z$ es mi mamá, o sea $M(z, i)$\n",
    "4. $w$ es el papá de mi mamá, o sea $P(w,z)$\n",
    "5. La edad de $y$ es más grande que la edad de $w$, o sea $E(y) > E(w)$\n",
    "\n",
    "Entonces, la oración 4 es &emsp; $M(y,x) \\wedge P(x, i) \\wedge P(w,z) \\wedge M(z,i) \\implies E(y) > E(w)$"
   ]
  },
  {
   "cell_type": "markdown",
   "metadata": {},
   "source": [
    "## Demostración y Repaso de Lógica\n",
    "\n",
    "Demuestra los siguientes enunciados y da un ejemplo en palabras para cada uno de ellos.\n",
    "\n",
    "1. $\\neg \\forall x (\\alpha \\implies \\beta) \\dashv \\vdash \\exists x(\\alpha \\wedge \\neg \\beta)$\n",
    "2. $\\neg \\exists x(\\alpha \\wedge \\beta) \\dashv \\vdash \\forall x(\\alpha \\implies \\neg \\beta)$\n",
    "3. $\\forall x (\\alpha \\implies \\beta) \\dashv \\vdash \\neg \\exists x(\\alpha \\wedge \\neg \\beta)$"
   ]
  },
  {
   "cell_type": "markdown",
   "metadata": {},
   "source": [
    "### Caso 1\n",
    "\n",
    "Trabajaremos en el sentido de izquierda a derecha primero.\n",
    "\n",
    "$\\neg \\forall x(\\phi)$ (*no todos lo cumplen*) significa alternativamente que $\\exists x (\\neg\\phi)$ (*existe alguien que no lo cumple*), donde $\\phi$ es cualquier expresión. Si reemplazamos la expresión $\\phi$ por $\\alpha \\implies \\beta$ tenemos que $\\exists x \\neg(\\alpha \\implies \\beta)$.\n",
    "Podemos usar la identidad de implicación material para convertirlo en $\\exists x \\neg(\\neg \\alpha \\vee \\beta)$, y posteriormente repartimos el $\\neg$ usando leyes de De Morgan para obtener $\\exists x(\\neg\\neg \\alpha \\wedge \\neg \\beta)$.\n",
    "Eliminamos la doble negación, y tenemos el lado derecho de la expresión $\\exists x (\\alpha \\wedge \\neg \\beta)$.\n",
    "\n",
    "Para el lado derecho podemos hacer el mismo proceso pero de manera inversa, ya que utilizamos para demostrarlo sólo equivalencias, y por tanto la expresión es válida $\\square$"
   ]
  },
  {
   "cell_type": "markdown",
   "metadata": {},
   "source": [
    "### Caso 2\n",
    "\n",
    "Trabajaremos en el sentido de izquierda a derecha primero.\n",
    "\n",
    "$\\neg \\exists x(\\phi)$ (*no existe alguien que lo cumpla*) puede reescribirse como $\\forall x (\\neg \\phi)$ (*todos no lo cumplen*).\n",
    "Si reemplazamos $\\phi$ por $\\alpha \\wedge \\beta$ tenemos que $\\forall x \\neg(\\alpha \\wedge \\beta)$.\n",
    "Podemos repartir el $\\neg$ usando leyes de De Morgan, y obteniendo que $\\forall x (\\neg \\alpha \\vee \\neg \\beta)$. Usando implicación material, sabemos que $\\neg \\phi \\vee \\psi \\equiv \\phi \\implies \\psi$, y sustituyendo $\\phi$ por $\\alpha$ y $\\psi$ por $\\beta$, tenemos que $\\forall x (\\neg\\neg \\alpha \\implies \\beta)$.\n",
    "Procedemos a eliminar la doble negación y llegamos entonces a $\\forall x (\\alpha \\implies \\neg \\beta)$, que es la expresión de la derecha.\n",
    "\n",
    "El sentido opuesto de la equivalencia puede demostrarse de manera similar al caso anterior $\\square$"
   ]
  },
  {
   "cell_type": "markdown",
   "metadata": {},
   "source": [
    "### Caso 3\n",
    "\n",
    "Trabajaremos en el sentido de izquierda a derecha primero.\n",
    "\n",
    "$\\forall x (\\phi)$ (*todos lo cumplen*) puede reescribirse como $\\neg \\exists x \\neg(\\phi)$ (*no existe alguien que no lo cumpla*).\n",
    "Al reemplazar $\\phi$ por $\\alpha \\implies \\beta$ obtenemos $\\neg \\exists x \\neg(\\alpha \\implies \\beta)$.\n",
    "Como $\\phi$ en este caso es idéntico al $\\phi$ que usamos en el Caso 1, podemos seguir el mismo proceso aplicando implicación material y leyes de De Morgan para obtener finalmente $\\neg \\exists x\\neg (\\alpha \\wedge \\neg \\beta)$.\n",
    "\n",
    "El sentido opuesto de la equivalencia se demuestra de manera similar a los casos anteriores $\\square$\n"
   ]
  }
 ],
 "metadata": {
  "kernelspec": {
   "display_name": "Python 3",
   "language": "python",
   "name": "python3"
  },
  "language_info": {
   "codemirror_mode": {
    "name": "ipython",
    "version": 3
   },
   "file_extension": ".py",
   "mimetype": "text/x-python",
   "name": "python",
   "nbconvert_exporter": "python",
   "pygments_lexer": "ipython3",
   "version": "3.7.4"
  }
 },
 "nbformat": 4,
 "nbformat_minor": 2
}
