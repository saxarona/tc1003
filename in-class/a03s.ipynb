{
 "cells": [
  {
   "cell_type": "markdown",
   "metadata": {},
   "source": [
    "# Actividad 3\n",
    "## Conjuntos"
   ]
  },
  {
   "cell_type": "markdown",
   "metadata": {},
   "source": [
    "Escribe el conjunto potencia del conjunto de los colores en un semáforo convencional"
   ]
  },
  {
   "cell_type": "code",
   "execution_count": 56,
   "metadata": {},
   "outputs": [],
   "source": [
    "from itertools import chain, combinations\n",
    "import ttg\n",
    "\n",
    "def powerset(S):\n",
    "    \"\"\" Returns the powerset of the set S \"\"\"\n",
    "    s = list(S)\n",
    "    return list(chain.from_iterable(combinations(s, r) for r in range(len(s) + 1)))"
   ]
  },
  {
   "cell_type": "code",
   "execution_count": 45,
   "metadata": {},
   "outputs": [
    {
     "data": {
      "text/plain": [
       "[(),\n",
       " ('rojo',),\n",
       " ('verde',),\n",
       " ('amarillo',),\n",
       " ('rojo', 'verde'),\n",
       " ('rojo', 'amarillo'),\n",
       " ('verde', 'amarillo'),\n",
       " ('rojo', 'verde', 'amarillo')]"
      ]
     },
     "execution_count": 45,
     "metadata": {},
     "output_type": "execute_result"
    }
   ],
   "source": [
    "powerset({'verde', 'amarillo', 'rojo'})"
   ]
  },
  {
   "cell_type": "markdown",
   "metadata": {},
   "source": [
    "Demuestra que $X \\subseteq A \\wedge X \\subseteq B \\vdash X \\subseteq A \\cap B$. _(Hint: empieza asumiendo que algún elemento pertenece a $X$.)_"
   ]
  },
  {
   "cell_type": "markdown",
   "metadata": {},
   "source": [
    "Asumamos que $x \\in X$.\n",
    "Como sabemos que $X \\subseteq A$, entonces podemos inferir que todos los elementos de $X$ pertenecen a $A$, y por tanto, $x \\in A$.\n",
    "Además, como sabemos que $X \\subseteq B$, entonces podemos inferir que todos los elementos de $X$ pertenece a $B$, y por consiguiente, $x \\in B$\n",
    "Por lo tanto, como $x \\in A \\wedge x \\in B$, eso significa que $x$ está en ambos conjuntos, y por tanto $x \\in A \\cap B \\; \\blacksquare$"
   ]
  },
  {
   "cell_type": "markdown",
   "metadata": {},
   "source": [
    "¿Cuál es la cardinalidad del conjunto potencia de los colores del arcoiris?"
   ]
  },
  {
   "cell_type": "code",
   "execution_count": 51,
   "metadata": {},
   "outputs": [
    {
     "data": {
      "text/plain": [
       "128"
      ]
     },
     "execution_count": 51,
     "metadata": {},
     "output_type": "execute_result"
    }
   ],
   "source": [
    "len(powerset([1, 2, 3, 4, 5, 6, 7]))"
   ]
  },
  {
   "cell_type": "markdown",
   "metadata": {},
   "source": [
    "¿Puedes reescribir la diferencia simétrica con sólo uniones y diferencias?"
   ]
  },
  {
   "cell_type": "markdown",
   "metadata": {},
   "source": [
    "$$A \\oplus B \\equiv A \\setminus B \\cup B \\setminus A$$"
   ]
  },
  {
   "cell_type": "markdown",
   "metadata": {},
   "source": [
    "¿A qué conectivo lógico corresponde la diferencia simétrica? Dibuja su tabla de verdad y da un ejemplo en teoría de conjuntos y en lógica proposicional."
   ]
  },
  {
   "cell_type": "code",
   "execution_count": 57,
   "metadata": {},
   "outputs": [
    {
     "data": {
      "text/html": [
       "<div>\n",
       "<style scoped>\n",
       "    .dataframe tbody tr th:only-of-type {\n",
       "        vertical-align: middle;\n",
       "    }\n",
       "\n",
       "    .dataframe tbody tr th {\n",
       "        vertical-align: top;\n",
       "    }\n",
       "\n",
       "    .dataframe thead th {\n",
       "        text-align: right;\n",
       "    }\n",
       "</style>\n",
       "<table border=\"1\" class=\"dataframe\">\n",
       "  <thead>\n",
       "    <tr style=\"text-align: right;\">\n",
       "      <th></th>\n",
       "      <th>A</th>\n",
       "      <th>B</th>\n",
       "      <th>A xor B</th>\n",
       "    </tr>\n",
       "  </thead>\n",
       "  <tbody>\n",
       "    <tr>\n",
       "      <td>1</td>\n",
       "      <td>1</td>\n",
       "      <td>1</td>\n",
       "      <td>0</td>\n",
       "    </tr>\n",
       "    <tr>\n",
       "      <td>2</td>\n",
       "      <td>1</td>\n",
       "      <td>0</td>\n",
       "      <td>1</td>\n",
       "    </tr>\n",
       "    <tr>\n",
       "      <td>3</td>\n",
       "      <td>0</td>\n",
       "      <td>1</td>\n",
       "      <td>1</td>\n",
       "    </tr>\n",
       "    <tr>\n",
       "      <td>4</td>\n",
       "      <td>0</td>\n",
       "      <td>0</td>\n",
       "      <td>0</td>\n",
       "    </tr>\n",
       "  </tbody>\n",
       "</table>\n",
       "</div>"
      ],
      "text/plain": [
       "   A  B A xor B\n",
       "1  1  1       0\n",
       "2  1  0       1\n",
       "3  0  1       1\n",
       "4  0  0       0"
      ]
     },
     "execution_count": 57,
     "metadata": {},
     "output_type": "execute_result"
    }
   ],
   "source": [
    "ttg.Truths(['A', 'B'], ['A xor B']).as_pandas()"
   ]
  }
 ],
 "metadata": {
  "kernelspec": {
   "display_name": "Python 3",
   "language": "python",
   "name": "python3"
  },
  "language_info": {
   "codemirror_mode": {
    "name": "ipython",
    "version": 3
   },
   "file_extension": ".py",
   "mimetype": "text/x-python",
   "name": "python",
   "nbconvert_exporter": "python",
   "pygments_lexer": "ipython3",
   "version": "3.7.4"
  }
 },
 "nbformat": 4,
 "nbformat_minor": 2
}
