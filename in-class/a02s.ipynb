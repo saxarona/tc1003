{
 "cells": [
  {
   "cell_type": "markdown",
   "metadata": {},
   "source": [
    "# Actividad 2"
   ]
  },
  {
   "cell_type": "markdown",
   "metadata": {},
   "source": [
    "## Tablas de verdad\n",
    "\n",
    "Escribe la tabla de verdad de los siguientes enunciados:\n",
    "\n",
    "_Cada inciso vale 15 puntos_"
   ]
  },
  {
   "cell_type": "markdown",
   "metadata": {},
   "source": [
    "$P \\vee Q \\implies R$\n",
    "\n",
    "Aquí debería incluir el ttg (see pypi ttg)"
   ]
  },
  {
   "cell_type": "markdown",
   "metadata": {},
   "source": [
    "$\\neg P \\implies Q$"
   ]
  },
  {
   "cell_type": "markdown",
   "metadata": {},
   "source": [
    "Demuestra que $\\neg (P \\vee Q) \\equiv \\neg P \\wedge \\neg Q$"
   ]
  },
  {
   "cell_type": "markdown",
   "metadata": {},
   "source": [
    "Demuestra que $\\neg P \\vee Q \\equiv P \\implies Q$"
   ]
  },
  {
   "cell_type": "markdown",
   "metadata": {},
   "source": [
    "Usando sólo $\\vee, \\wedge$ y $\\neg$, reformula el enunciado $P \\iff Q$"
   ]
  }
 ],
 "metadata": {
  "kernelspec": {
   "display_name": "Python 3",
   "language": "python",
   "name": "python3"
  },
  "language_info": {
   "codemirror_mode": {
    "name": "ipython",
    "version": 3
   },
   "file_extension": ".py",
   "mimetype": "text/x-python",
   "name": "python",
   "nbconvert_exporter": "python",
   "pygments_lexer": "ipython3",
   "version": "3.7.1"
  }
 },
 "nbformat": 4,
 "nbformat_minor": 2
}
