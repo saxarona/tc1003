{
 "cells": [
  {
   "cell_type": "markdown",
   "metadata": {},
   "source": [
    "# Actividad 05 - Pruebas"
   ]
  },
  {
   "cell_type": "markdown",
   "metadata": {},
   "source": [
    "## Prueba \n",
    "\n",
    "Usando las reglas de deducción, demuestra que Modus Tollens es una regla válida de inferencia."
   ]
  },
  {
   "cell_type": "markdown",
   "metadata": {},
   "source": [
    "**Prueba**. _Modus Tollens_ consiste en la regla\n",
    "\n",
    "$$ \\vdash \\neg B \\quad \\vdash A \\implies B \\over \\vdash \\neg A$$\n",
    "\n",
    "y para probar que es una regla de inferencia válida, podemos probar la negación de la regla: $\\neg((\\neg B  \\wedge (A \\implies B)) \\implies \\neg A)$.\n",
    "\n",
    "$\\begin{align*}\n",
    "& \\neg((\\neg B  \\wedge (A \\implies B)) \\implies \\neg A) \\tag{Negación de M.T.} \\\\\n",
    "& = \\neg(\\neg(\\neg B \\wedge (A \\implies B)) \\vee \\neg A) \\tag{Implicación material} \\\\\n",
    "& = (\\neg B \\wedge (A \\implies B)) \\wedge A \\tag{De Morgan} \\\\\n",
    "& = (\\neg B \\wedge (\\neg A \\vee B)) \\wedge A \\tag{Implicación material} \\\\\n",
    "& = (\\neg B \\wedge \\color{red}{\\neg A \\wedge A}) \\vee (\\color{red}{\\neg B \\wedge B} \\wedge A) \\tag{$\\wedge$ es distributiva sobre $\\vee$}\n",
    "\\end{align*}$\n",
    "\n",
    "Como ambos términos contienen **contradicciones** esto significa que la negación no es factible.\n",
    "Por tanto y luego entonces,  *Modus Tollens* es una regla básica de inferencia $\\square$"
   ]
  },
  {
   "cell_type": "markdown",
   "metadata": {},
   "source": [
    "---"
   ]
  },
  {
   "cell_type": "markdown",
   "metadata": {},
   "source": [
    "Usando reglas de inferencia, demuestra que\n",
    "$$ \\{ A \\wedge B \\implies C\\} \\models (A \\implies C) \\vee (B \\implies C)$$\n",
    "\n",
    "pero\n",
    "\n",
    "$$ \\{ A \\wedge B \\implies C\\} \\not \\models (A \\implies C) \\\\  \\{A \\wedge B \\implies C\\} \\not \\models (B \\implies C)$$\n",
    "\n",
    "Después, prueba lo mismo usando conceptos de interpretación, valor de verdad, modelo y satisfacción."
   ]
  },
  {
   "cell_type": "markdown",
   "metadata": {},
   "source": [
    "**Prueba**. Para poder demostrar que la deducción es válida, primero hay que asegurarnos de que el lado izquierdo de la expresión es verdad, y lo consideramos dentro de la _base de conocimientos_. Usaremos resolución por refutación para ello.\n",
    "\n",
    "Si convertimos a su forma normal conjuntiva, el lado izquierdo nos da $\\neg A \\vee \\neg B \\vee C$ tras usar implicación material y leyes de De Morgan.\n",
    "Siguiendo la misma idea, la parte de la derecha nos da $(\\neg A \\vee C) \\vee (\\neg B \\vee C)$, y podemos usar su negación como una consulta a la base de conocimiento.\n",
    "La negación entonces nos deja en $A \\wedge \\neg C \\wedge B \\wedge \\neg C$, que son realmente tres consultas más simples.\n",
    "Se puede notar con facilidad que si resuelvo usando la única fórmula de la base de conocimientos con cada una de las tres consultas en sucesión, llegaré a una cláusula vacía, por lo que podemos concluir que la expresión de la derecha puede inferirse a partir de la expresión de la izquierda.\n",
    "\n",
    "Ahora bien, para los casos que no se puede asumir, seguimos la misma técnica.\n",
    "Primero convertimos a FNC ambos lados:\n",
    "El lado izquierdo queda como $\\neg A \\vee \\neg B \\vee C$, y el lado derecho como $\\neg A \\vee C$.\n",
    "Si negamos el lado derecho para meterlo como una cosulta, tenemos $A \\wedge \\neg C$, que son dos consultas más simples.\n",
    "Si resolvemos con la fórmula que tenemos en la base de conocimientos y $A$, nos queda $\\neg B \\vee \\neg C$, de la cual podemos eliminar $\\neg C \\wedge C$. Sin embargo, esto resulta en la cláusula $B$; para saber si la consulta es cierta o no, dependemos del valor que tenga $B$.\n",
    "Esto demuestra que $A \\implies C$ no puede ser inferido a partir de $A \\wedge B \\implies C$.\n",
    "\n",
    "La demostración de la tercera expresión es similar a la de la expresión anterior, simplemente intercambiando $A$ por $B \\quad \\square$"
   ]
  },
  {
   "cell_type": "markdown",
   "metadata": {},
   "source": [
    "La demostración usando interpretaciones es un poco más rápida:\n",
    "\n",
    "**Prueba.** Para que el lado izquierdo de la primera expresión sea verdadera, hay varios casos posibles. De hecho, el único caso en el que esta fórmula no es verdadera es bajo la interpretación en donde $v_I(A) = v_I(B) = True$ y $v_I(C) = False$. El resto de las interpretaciones satisfacen a la expresión de la derecha y también a la de la izquierda.\n",
    "\n",
    "Sin embargo, la interpretación en la que $v_I(A) = v_I(B) = v_I(C) = True$ no _modela_ a $A \\implies C$:\n",
    "\n",
    "En la interpretación donde $v_I(A) = v_I(C) = True, v_I(B) = False$, la fórmula $A \\implies C$ es verdadera pero $A \\wedge B \\implies C$ no lo es, porque $B$ es falso.\n",
    "Del mismo modo, la interpretación donde $v_I(A) = False, v_I(C) = v_I(B) = True$ satisface $B \\implies C$ pero no $A \\wedge B \\implies C \\quad \\square$"
   ]
  }
 ],
 "metadata": {
  "kernelspec": {
   "display_name": "Python 3",
   "language": "python",
   "name": "python3"
  },
  "language_info": {
   "codemirror_mode": {
    "name": "ipython",
    "version": 3
   },
   "file_extension": ".py",
   "mimetype": "text/x-python",
   "name": "python",
   "nbconvert_exporter": "python",
   "pygments_lexer": "ipython3",
   "version": "3.7.4"
  }
 },
 "nbformat": 4,
 "nbformat_minor": 2
}
